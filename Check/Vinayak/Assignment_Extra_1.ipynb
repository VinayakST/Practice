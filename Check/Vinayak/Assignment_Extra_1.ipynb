{
 "cells": [
  {
   "cell_type": "code",
   "execution_count": 1,
   "metadata": {},
   "outputs": [
    {
     "name": "stdout",
     "output_type": "stream",
     "text": [
      "Enter temperature in fahrenheit:32\n",
      "32.0 degree Fahrenheit is equal to 0.0 degree Celsius\n"
     ]
    }
   ],
   "source": [
    "#1:\n",
    "Fahrenheit=float(input('Enter temperature in fahrenheit:'))\n",
    "Celsius=(Fahrenheit-32)*(5/9)\n",
    "print('{f} degree Fahrenheit is equal to {c} degree Celsius'.format(f=Fahrenheit,c=Celsius))"
   ]
  },
  {
   "cell_type": "code",
   "execution_count": 2,
   "metadata": {},
   "outputs": [
    {
     "name": "stdout",
     "output_type": "stream",
     "text": [
      "Enter a number:2\n",
      "Square of 2.0 is: 4.0\n",
      "Cube of 2.0 is: 8.0\n"
     ]
    }
   ],
   "source": [
    "#2:\n",
    "number=float(input('Enter a number:'))\n",
    "print('Square of {n} is: {r}'.format(n=number,r=pow(number,2)))\n",
    "print('Cube of {n} is: {s}'.format(n=number,s=pow(number,3)))"
   ]
  },
  {
   "cell_type": "code",
   "execution_count": 3,
   "metadata": {},
   "outputs": [
    {
     "name": "stdout",
     "output_type": "stream",
     "text": [
      "Enter a number:2\n",
      "Enter another number:2\n",
      "Result of n^2+m^2 = 8.0\n"
     ]
    }
   ],
   "source": [
    "#3:\n",
    "n=float(input('Enter a number:'))\n",
    "m=float(input('Enter another number:'))\n",
    "print('Result of n^2+m^2 = {r}'.format(r=(n**2)+(m**2)))"
   ]
  },
  {
   "cell_type": "code",
   "execution_count": 4,
   "metadata": {},
   "outputs": [
    {
     "name": "stdout",
     "output_type": "stream",
     "text": [
      "Enter a number:2\n",
      "Enter another number:2\n",
      "Result of M^N = 4.0\n",
      "Result of M^N = 4.0\n"
     ]
    }
   ],
   "source": [
    "#4:\n",
    "M=float(input('Enter a number:'))\n",
    "N=float(input('Enter another number:'))\n",
    "print('Result of M^N = {r}'.format(r=(M**N)))\n",
    "print('Result of M^N = {r}'.format(r=pow(M,N)))"
   ]
  },
  {
   "cell_type": "code",
   "execution_count": 5,
   "metadata": {},
   "outputs": [
    {
     "name": "stdout",
     "output_type": "stream",
     "text": [
      "Enter principal amount:5000\n",
      "Enter rate of interest in %:5\n",
      "Enter time in years:5\n",
      "Interest amount= 1250.0\n",
      "Total amount= 6250.0\n"
     ]
    }
   ],
   "source": [
    "#5:\n",
    "Principal_Amount=float(input('Enter principal amount:'))\n",
    "Rate_of_interest=float(input('Enter rate of interest in %:'))\n",
    "Time=float(input('Enter time in years:'))\n",
    "Interest_amount=Principal_Amount*Rate_of_interest*Time/100\n",
    "print('Interest amount= {r}'.format(r=Interest_amount))\n",
    "print('Total amount= {s}'.format(s=Interest_amount+Principal_Amount))"
   ]
  },
  {
   "cell_type": "code",
   "execution_count": 6,
   "metadata": {},
   "outputs": [
    {
     "name": "stdout",
     "output_type": "stream",
     "text": [
      "Enter principal amount:50000\n",
      "Enter rate of interest in %:5\n",
      "Enter time in years:5\n",
      "Enter number of times interest compounds in a year:1\n",
      "Compound Interest amount= 13814.078125000015\n",
      "Total amount= 63814.078125000015\n"
     ]
    }
   ],
   "source": [
    "#6:\n",
    "Principal_Amount=float(input('Enter principal amount:'))\n",
    "Rate_of_interest=float(input('Enter rate of interest in %:'))\n",
    "Time=float(input('Enter time in years:'))\n",
    "N=float(input('Enter number of times interest compounds in a year:'))\n",
    "#Compound_Interest_amount=Principal_Amount*pow((1+((Rate_of_interest/100)/N)),(N*Time))\n",
    "Compound_Interest_amount=Principal_Amount*(1+(Rate_of_interest/100)/N)**(N*Time)-Principal_Amount\n",
    "print('Compound Interest amount= {r}'.format(r=Compound_Interest_amount))\n",
    "print('Total amount= {s}'.format(s=Compound_Interest_amount+Principal_Amount))"
   ]
  },
  {
   "cell_type": "code",
   "execution_count": 7,
   "metadata": {},
   "outputs": [
    {
     "name": "stdout",
     "output_type": "stream",
     "text": [
      "Enter a number:2\n",
      "Sum of n number is 3\n"
     ]
    }
   ],
   "source": [
    "#7:\n",
    "n=int(input('Enter a number:'))\n",
    "sum=0\n",
    "for i in range(n+1):\n",
    "    sum+=i\n",
    "print('Sum of n number is {s}'.format(s=sum))"
   ]
  },
  {
   "cell_type": "code",
   "execution_count": 8,
   "metadata": {},
   "outputs": [
    {
     "name": "stdout",
     "output_type": "stream",
     "text": [
      "Enter value of x:5\n",
      "Enter value of y:4\n",
      "The value of x after swapping: 4.0\n",
      "The value of y after swapping: 5.0\n"
     ]
    }
   ],
   "source": [
    "#8:\n",
    "x = float(input('Enter value of x:'))\n",
    "y = float(input('Enter value of y:'))\n",
    "\n",
    "temp = x\n",
    "x = y\n",
    "y = temp\n",
    "\n",
    "print('The value of x after swapping: {}'.format(x))\n",
    "print('The value of y after swapping: {}'.format(y))"
   ]
  },
  {
   "cell_type": "code",
   "execution_count": 9,
   "metadata": {},
   "outputs": [
    {
     "name": "stdout",
     "output_type": "stream",
     "text": [
      "Enter value of x:5\n",
      "Enter value of y:4\n",
      "The value of x after swapping: 4.0\n",
      "The value of y after swapping: 5.0\n"
     ]
    }
   ],
   "source": [
    "#8:\n",
    "x = float(input('Enter value of x:'))\n",
    "y = float(input('Enter value of y:'))\n",
    "\n",
    "x, y = y, x\n",
    "print('The value of x after swapping: {}'.format(x))\n",
    "print('The value of y after swapping: {}'.format(y))"
   ]
  },
  {
   "cell_type": "code",
   "execution_count": 10,
   "metadata": {},
   "outputs": [
    {
     "name": "stdout",
     "output_type": "stream",
     "text": [
      "' ' 32\n",
      "'\\t' 9\n",
      "'\\n' 10\n",
      "'\\r' 13\n",
      "'\\x0b' 11\n",
      "'\\x0c' 12\n"
     ]
    }
   ],
   "source": [
    "#9:\n",
    "import string\n",
    "a=string.whitespace\n",
    "for i in a:\n",
    "    print(repr(i),ord(i))"
   ]
  },
  {
   "cell_type": "code",
   "execution_count": 11,
   "metadata": {},
   "outputs": [
    {
     "name": "stdout",
     "output_type": "stream",
     "text": [
      "Enter a character:a\n",
      "'a' 97\n"
     ]
    }
   ],
   "source": [
    "#10:\n",
    "a=input('Enter a character:')\n",
    "print(repr(a),ord(a))"
   ]
  },
  {
   "cell_type": "code",
   "execution_count": 12,
   "metadata": {},
   "outputs": [
    {
     "name": "stdout",
     "output_type": "stream",
     "text": [
      "Area of circle:20\n",
      "Radius and circumference of circle with area 20.0mm^2 are 2.5231325220201604mm and 15.853309190424046mm respectively\n"
     ]
    }
   ],
   "source": [
    "#11:\n",
    "from math import sqrt, pi\n",
    "Area=float(input('Area of circle:'))\n",
    "radius=sqrt((Area)/pi)\n",
    "circumference=2*pi*radius\n",
    "print('Radius and circumference of circle with area {a}mm^2 are {r}mm and {c}mm respectively'.format(a=Area, r=radius, c=circumference))"
   ]
  },
  {
   "cell_type": "code",
   "execution_count": 13,
   "metadata": {},
   "outputs": [
    {
     "name": "stdout",
     "output_type": "stream",
     "text": [
      "Enter subject1 marks:80\n",
      "Enter subject2 marks:85\n",
      "Enter subject3 marks:90\n",
      "Enter subject4 marks:68\n",
      "Enter subject5 marks:92\n",
      "Percentage is 83.0\n"
     ]
    }
   ],
   "source": [
    "#12:\n",
    "a=float(input('Enter subject1 marks:'))\n",
    "b=float(input('Enter subject2 marks:'))\n",
    "c=float(input('Enter subject3 marks:'))\n",
    "d=float(input('Enter subject4 marks:'))\n",
    "e=float(input('Enter subject5 marks:'))\n",
    "Total=500\n",
    "add=a+b+c+d+e\n",
    "percentage=(add/Total)*100\n",
    "print('Percentage is {}'.format(percentage))"
   ]
  }
 ],
 "metadata": {
  "kernelspec": {
   "display_name": "Python 3",
   "language": "python",
   "name": "python3"
  },
  "language_info": {
   "codemirror_mode": {
    "name": "ipython",
    "version": 3
   },
   "file_extension": ".py",
   "mimetype": "text/x-python",
   "name": "python",
   "nbconvert_exporter": "python",
   "pygments_lexer": "ipython3",
   "version": "3.7.6"
  }
 },
 "nbformat": 4,
 "nbformat_minor": 4
}
